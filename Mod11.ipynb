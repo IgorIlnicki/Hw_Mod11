{
 "cells": [
  {
   "cell_type": "code",
   "execution_count": 8,
   "id": "d1763d48-ec62-4a0e-8eba-6d46b326e303",
   "metadata": {},
   "outputs": [
    {
     "name": "stdout",
     "output_type": "stream",
     "text": [
      "TensorFlow version: 2.16.1\n"
     ]
    }
   ],
   "source": [
    "import tensorflow as tf\n",
    "import numpy as np\n",
    "import pandas as pd\n",
    "import matplotlib.pyplot as plt\n",
    "import random\n",
    "import keras as K\n",
    "import seaborn as sns\n",
    "from sklearn.metrics import confusion_matrix\n",
    "\n",
    "# Перевіряємо версію TensorFlow\n",
    "print(\"TensorFlow version:\", tf.__version__)"
   ]
  },
  {
   "cell_type": "code",
   "execution_count": 126,
   "id": "e5134e54-0619-4b5b-9a9b-2a9990e8e29b",
   "metadata": {},
   "outputs": [],
   "source": [
    "num_classes = 10 # загальна кількість класів, у нашому випадку це цифри від 0 до 9\n",
    "num_features = 784 # кількість атрибутів вхідного вектора 28 * 28 = 784\n",
    "\n",
    "learning_rate = 0.001 # швидкість навчання нейронної мережі\n",
    "training_steps = 3000 # максимальне число епох\n",
    "batch_size = 256 # перераховувати ваги мережі ми будемо не на всій вибірці, а на її випадковій підмножині з batch_size елементів\n",
    "display_step = 100 # кожні 100 ітерацій ми будемо показувати поточне значення функції втрат і точності\n",
    "\n",
    "n_hidden_1 = 128 # кількість нейронів 1-го шару\n",
    "n_hidden_2 = 256 # кількість нейронів 2-го шару"
   ]
  },
  {
   "cell_type": "code",
   "execution_count": 348,
   "id": "505cdec9-da5e-45a7-9bfd-6dc2b22baeaa",
   "metadata": {},
   "outputs": [
    {
     "name": "stdout",
     "output_type": "stream",
     "text": [
      "(60000, 10)\n",
      "(60000, 28, 28)\n"
     ]
    }
   ],
   "source": [
    "# from tensorflow.keras.datasets import mnist\n",
    "from keras.datasets import mnist\n",
    "\n",
    "# Завантажуємо датасет\n",
    "(x_train, y_train), (x_test, y_test) = mnist.load_data()\n",
    "# x_train: Навчальні зображення. Це тензори, що містять рукописні зображення цифр\n",
    "# y_train: Навчальні мітки. Це масив, що містить відповідні мітки для навчальних зображень\n",
    "# x_test: Тестові зображення. Це тензори, що містять рукописні зображення цифр, \n",
    "# які використовуються для тестування моделі\n",
    "# y_test: Тестові мітки. Це масив, що містить відповідні мітки для тестових зображень\n",
    "\n",
    "# Перетворюємо цілочисельні пікселі на тип float32\n",
    "x_train, x_test = np.array(x_train, np.float32), np.array(x_test, np.float32)\n",
    "\n",
    "# Перетворення міток у one-hot вектори\n",
    "#y_train = to_categorical(y_train, 10)\n",
    "#y_test = to_categorical(y_test, 10)\n",
    "\n",
    "# Перетворення y_train на one-hot вектори\n",
    "y_train_one_hot = tf.one_hot(y_train, depth=num_classes)\n",
    "print(y_train_one_hot.shape)\n",
    "\n",
    "#y_train_one_hot = to_categorical(y_train, 10)\n",
    "#y_test_one_hot = to_categorical(y_test, 10)\n",
    "\n",
    "print(x_train.shape)\n",
    "# x_train   # x_train: Навчальні зображення. Це тензори, що містять рукописні зображення цифр\n",
    "# Кожне значення матриці x_train відповідає інтенсивності пікселя, де значення 0 відповідає чорному колірі, \n",
    "# а значення 255 відповідає білому коліру"
   ]
  },
  {
   "cell_type": "code",
   "execution_count": 349,
   "id": "1e943180-edfd-4386-a4e9-628d61333aff",
   "metadata": {},
   "outputs": [
    {
     "name": "stdout",
     "output_type": "stream",
     "text": [
      "(array([    0,     0,     0, ..., 59999, 59999, 59999], dtype=int64), array([ 5,  5,  5, ..., 24, 24, 24], dtype=int64), array([12, 13, 14, ...,  8,  9, 10], dtype=int64))\n",
      "(60000, 28, 28)\n"
     ]
    }
   ],
   "source": [
    "# Впевнемося наочно, що наш датасет має не тільки нульові зображення\n",
    "# Знаходимо індекси ненульових елементів\n",
    "nonzero_indices = np.nonzero(x_train)\n",
    "\n",
    "# Виводимо індекси ненульових елементів\n",
    "print(nonzero_indices)\n",
    "print(x_train.shape)"
   ]
  },
  {
   "cell_type": "code",
   "execution_count": 288,
   "id": "821a80ef-1122-4f64-8896-28221460d6d6",
   "metadata": {},
   "outputs": [
    {
     "data": {
      "image/png": "[encoded data removed]",
      "text/plain": [
       "<Figure size 1000x100 with 10 Axes>"
      ]
     },
     "metadata": {},
     "output_type": "display_data"
    }
   ],
   "source": [
    "# Відображення перших 10 зображень з x_train та їх міток y_train\n",
    "plt.figure(figsize=(10, 1))\n",
    "for i in range(10):\n",
    "    plt.subplot(1, 10, i+1)\n",
    "    plt.imshow(x_train[i], cmap='gray')\n",
    "    plt.title(str(y_train[i]))  # Додавання мітки\n",
    "    #plt.title(str(tf.argmax(y_train[i]).numpy()))\n",
    "    plt.title(str(y_train[i]))  # Відображення мітки без tf.argmax\n",
    "    plt.axis('off')\n",
    "plt.show()"
   ]
  },
  {
   "cell_type": "code",
   "execution_count": 350,
   "id": "33266d88-d4e0-401c-9dc5-75c86332c97a",
   "metadata": {},
   "outputs": [
    {
     "name": "stdout",
     "output_type": "stream",
     "text": [
      "(60000,)\n"
     ]
    },
    {
     "data": {
      "text/plain": [
       "array([5, 0, 4, ..., 5, 6, 8], dtype=uint8)"
      ]
     },
     "execution_count": 350,
     "metadata": {},
     "output_type": "execute_result"
    }
   ],
   "source": [
    "print(y_train.shape)\n",
    "y_train   # y_train: Навчальні мітки. Це масив, що містить відповідні мітки для навчальних зображень"
   ]
  },
  {
   "cell_type": "code",
   "execution_count": 351,
   "id": "4d5c897d-06ef-4809-8d31-18e986de7036",
   "metadata": {},
   "outputs": [
    {
     "name": "stdout",
     "output_type": "stream",
     "text": [
      "(10000, 28, 28)\n"
     ]
    },
    {
     "data": {
      "text/plain": [
       "array([[[0., 0., 0., ..., 0., 0., 0.],\n",
       "        [0., 0., 0., ..., 0., 0., 0.],\n",
       "        [0., 0., 0., ..., 0., 0., 0.],\n",
       "        ...,\n",
       "        [0., 0., 0., ..., 0., 0., 0.],\n",
       "        [0., 0., 0., ..., 0., 0., 0.],\n",
       "        [0., 0., 0., ..., 0., 0., 0.]],\n",
       "\n",
       "       [[0., 0., 0., ..., 0., 0., 0.],\n",
       "        [0., 0., 0., ..., 0., 0., 0.],\n",
       "        [0., 0., 0., ..., 0., 0., 0.],\n",
       "        ...,\n",
       "        [0., 0., 0., ..., 0., 0., 0.],\n",
       "        [0., 0., 0., ..., 0., 0., 0.],\n",
       "        [0., 0., 0., ..., 0., 0., 0.]],\n",
       "\n",
       "       [[0., 0., 0., ..., 0., 0., 0.],\n",
       "        [0., 0., 0., ..., 0., 0., 0.],\n",
       "        [0., 0., 0., ..., 0., 0., 0.],\n",
       "        ...,\n",
       "        [0., 0., 0., ..., 0., 0., 0.],\n",
       "        [0., 0., 0., ..., 0., 0., 0.],\n",
       "        [0., 0., 0., ..., 0., 0., 0.]],\n",
       "\n",
       "       ...,\n",
       "\n",
       "       [[0., 0., 0., ..., 0., 0., 0.],\n",
       "        [0., 0., 0., ..., 0., 0., 0.],\n",
       "        [0., 0., 0., ..., 0., 0., 0.],\n",
       "        ...,\n",
       "        [0., 0., 0., ..., 0., 0., 0.],\n",
       "        [0., 0., 0., ..., 0., 0., 0.],\n",
       "        [0., 0., 0., ..., 0., 0., 0.]],\n",
       "\n",
       "       [[0., 0., 0., ..., 0., 0., 0.],\n",
       "        [0., 0., 0., ..., 0., 0., 0.],\n",
       "        [0., 0., 0., ..., 0., 0., 0.],\n",
       "        ...,\n",
       "        [0., 0., 0., ..., 0., 0., 0.],\n",
       "        [0., 0., 0., ..., 0., 0., 0.],\n",
       "        [0., 0., 0., ..., 0., 0., 0.]],\n",
       "\n",
       "       [[0., 0., 0., ..., 0., 0., 0.],\n",
       "        [0., 0., 0., ..., 0., 0., 0.],\n",
       "        [0., 0., 0., ..., 0., 0., 0.],\n",
       "        ...,\n",
       "        [0., 0., 0., ..., 0., 0., 0.],\n",
       "        [0., 0., 0., ..., 0., 0., 0.],\n",
       "        [0., 0., 0., ..., 0., 0., 0.]]], dtype=float32)"
      ]
     },
     "execution_count": 351,
     "metadata": {},
     "output_type": "execute_result"
    }
   ],
   "source": [
    "print(x_test.shape)\n",
    "x_test   # x_test: Тестові зображення. Це тензори, що містять рукописні зображення цифр, \n",
    "# які використовуються для тестування моделі"
   ]
  },
  {
   "cell_type": "code",
   "execution_count": 144,
   "id": "5fb19efe-9fe0-4a01-aaec-cb2515e863d9",
   "metadata": {},
   "outputs": [
    {
     "data": {
      "image/png": "[encoded data removed]",
      "text/plain": [
       "<Figure size 1000x100 with 10 Axes>"
      ]
     },
     "metadata": {},
     "output_type": "display_data"
    }
   ],
   "source": [
    "# Відображення перших 10 зображень з x_test та їх міток y_test\n",
    "plt.figure(figsize=(10, 1))\n",
    "for i in range(10):\n",
    "    plt.subplot(1, 10, i+1)\n",
    "    plt.imshow(x_test[i], cmap='gray')\n",
    "    plt.title(str(tf.argmax(y_test[i]).numpy()))  # Додавання мітки\n",
    "    plt.axis('off')\n",
    "plt.show()"
   ]
  },
  {
   "cell_type": "code",
   "execution_count": 145,
   "id": "887cfd81-8826-4a8b-98bd-e73cc6c8ea66",
   "metadata": {},
   "outputs": [
    {
     "name": "stdout",
     "output_type": "stream",
     "text": [
      "(10000, 10)\n"
     ]
    },
    {
     "data": {
      "text/plain": [
       "array([[0., 0., 0., ..., 1., 0., 0.],\n",
       "       [0., 0., 1., ..., 0., 0., 0.],\n",
       "       [0., 1., 0., ..., 0., 0., 0.],\n",
       "       ...,\n",
       "       [0., 0., 0., ..., 0., 0., 0.],\n",
       "       [0., 0., 0., ..., 0., 0., 0.],\n",
       "       [0., 0., 0., ..., 0., 0., 0.]])"
      ]
     },
     "execution_count": 145,
     "metadata": {},
     "output_type": "execute_result"
    }
   ],
   "source": [
    "print(y_test.shape)\n",
    "y_test   # y_test: Тестові мітки. Це масив, що містить відповідні мітки для тестових зображень"
   ]
  },
  {
   "cell_type": "code",
   "execution_count": 352,
   "id": "4b891193-6d25-4106-b3c3-7d7493da6ca0",
   "metadata": {},
   "outputs": [
    {
     "name": "stdout",
     "output_type": "stream",
     "text": [
      "x_train.shape[0] = 60000\n",
      "x_train.shape[1] = 28\n",
      "x_train.shape[2] = 28\n"
     ]
    }
   ],
   "source": [
    "# Перетворюємо цілочисельні пікселі на тип float32\n",
    "# x_train, x_test = np.array(x_train, np.float32), np.array(x_test, np.float32)\n",
    "\n",
    "print(f\"x_train.shape[0] = {x_train.shape[0]}\")   # кількість зразків у навчальному датасеті.\n",
    "print(f\"x_train.shape[1] = {x_train.shape[1]}\")   # ширина кожного зображення (кількість пікселів у рядку).\n",
    "print(f\"x_train.shape[2] = {x_train.shape[2]}\")   # висота кожного зображення (кількість пікселів у стовпчику)."
   ]
  },
  {
   "cell_type": "code",
   "execution_count": 353,
   "id": "7a6e5abf-cf08-4829-b689-edd3f9f884c3",
   "metadata": {},
   "outputs": [
    {
     "name": "stdout",
     "output_type": "stream",
     "text": [
      "x_train(modif).shape = (60000, 784)\n",
      "x_test(modif).shape = (10000, 784)\n"
     ]
    }
   ],
   "source": [
    "# Перетворюємо матриці розміром 28x28 пікселів у вектор з 784 елементів\n",
    "x_train, x_test = x_train.reshape([-1, num_features]), x_test.reshape([-1, num_features])\n",
    "print(f\"x_train(modif).shape = {x_train.shape}\")\n",
    "print(f\"x_test(modif).shape = {x_test.shape}\")"
   ]
  },
  {
   "cell_type": "code",
   "execution_count": 354,
   "id": "0c30f844-feb5-4941-9cd8-2015e70f46cf",
   "metadata": {},
   "outputs": [
    {
     "name": "stdout",
     "output_type": "stream",
     "text": [
      "Вхідна кількість ознак: 784\n"
     ]
    }
   ],
   "source": [
    "# Отже, вхідна кількість ознак у ваших даних MNIST дорівнює 784:\n",
    "# Визначення кількості вхідних ознак\n",
    "input_feature_count = x_train.shape[1]\n",
    "print(\"Вхідна кількість ознак:\", input_feature_count)\n",
    "num_classes = 10\n",
    "# Нормалізуємо значення пікселів\n",
    "x_train, x_test = x_train / 255., x_test / 255.\n",
    "\n",
    "# Перемішаємо тренувальні дані\n",
    "train_data = tf.data.Dataset.from_tensor_slices((x_train, y_train))\n",
    "train_data = train_data.repeat().shuffle(5000).batch(batch_size).prefetch(1)"
   ]
  },
  {
   "cell_type": "code",
   "execution_count": 372,
   "id": "0ad8a50d-82e0-47a5-99d5-d5beececb97f",
   "metadata": {},
   "outputs": [],
   "source": [
    "# Створимо нейронну мережу\n",
    "# Ініціалізуємо класс DenseLayer, який успадковується від tf.Module - базовий клас для всіх модулів у TensorFlow\n",
    "class DenseLayer(tf.Module):\n",
    "    def __init__(self, in_features, out_features, name=None):\n",
    "        # in_features - Кількість вхідних нейронів або розмірність вхідного вектора\n",
    "        # out_features: -  Кількість вихідних нейронів або розмірність вихідного вектора\n",
    "        # name=None - Необов'язковий аргумент для імені модуля, корисний для організації та налагодження\n",
    "        super().__init__(name=name)\n",
    "        self.w = tf.Variable(\n",
    "            tf.random.normal([in_features, out_features]), name=\"w\"\n",
    "        )\n",
    "        # self.w - Це змінна TensorFlow (tf.Variable), яка представляє ваги між вхідним і вихідним шаром\n",
    "        # Ініціалізується випадковими значеннями з нормального розподілу з розміром [in_features, out_features].\n",
    "        self.b = tf.Variable(tf.zeros([out_features]), name=\"b\")\n",
    "        # self.b - Це змінна TensorFlow (tf.Variable), яка представляє зсуви (biases) для вихідного шару\n",
    "        # Ініціалізується нулями з розміром [out_features]\n",
    "    # Виклик шару\n",
    "    def __call__(self, x, activation=None):\n",
    "        # __call__ - Це метод, який дозволяє використовувати екземпляр класу як функцію\n",
    "        # x - Вхідний тензор або дані, які передаються через шар\n",
    "        # activation=0 - Необов'язковий аргумент для вибору функції активації. За замовчуванням встановлений у 0.\n",
    "        #y = tf.matmul(x, self.w) + self.b\n",
    "        x = tf.matmul(x, self.w) + self.b\n",
    "        if activation:\n",
    "            x = activation(x)\n",
    "        return x\n",
    "        # y = tf.matmul(x, self.w) + self.b - Обчислення зваженої суми вхідних значень і додавання зсувів\n",
    "        # tf.matmul виконує матричне множення між вхідними даними x і вагами self.w\n",
    "        #if activation != 0:\n",
    "        #    return tf.nn.softmax(y)\n",
    "        # softmax: Використовується переважно на вихідному шарі класифікаторів для нормалізації вихідних значень у ймовірності, \n",
    "        # які сумуються до 1.\n",
    "        #else:\n",
    "        #    return tf.nn.sigmoid(y)\n",
    "        # sigmoid: Використовується для додавання нелінійності. Приводить значення до діапазону (0, 1).\n",
    "\n",
    "class NN(tf.Module):\n",
    "    # Клас NN є реалізацією простої нейронної мережі з використанням TensorFlow. \n",
    "    # Цей клас складається з трьох щільних (або повнозв'язних) шарів, які визначені в окремому класі DenseLayer\n",
    "    #def __init__(self, name=None):\n",
    "    def __init__(self, input_feature_count, num_classes, name=None):\n",
    "        super().__init__(name=name)\n",
    "        self.layer1 = DenseLayer(in_features=input_feature_count, out_features=128, name=\"layer1\")\n",
    "        self.layer2 = DenseLayer(in_features=128, out_features=256, name=\"layer2\")\n",
    "        self.output_layer = DenseLayer(in_features=256, out_features=num_classes, name=\"output_layer\") \n",
    "        # Вихідний щільний шар з 256 входами і num_classes виходами (кількість класів для класифікації).\n",
    "\n",
    "    def __call__(self, x, training=False):\n",
    "        x = self.layer1(x, activation=tf.nn.sigmoid)\n",
    "        x = self.layer2(x, activation=tf.nn.sigmoid)\n",
    "        x = self.output_layer(x, activation=tf.nn.softmax)\n",
    "        return x\n"
   ]
  },
  {
   "cell_type": "code",
   "execution_count": 473,
   "id": "8b32513a-11fe-4242-b336-2c53d3c6b32f",
   "metadata": {},
   "outputs": [],
   "source": [
    "from tensorflow.keras.utils import to_categorical\n",
    "# Імпортується функція to_categorical з tensorflow.keras.utils, яка зазвичай використовується для перетворення міток у формат \"one hot\"\n",
    "# В якості функції помилки в даному випадку зручно взяти крос-ентропію\n",
    "# Функція крос-ентропії\n",
    "def cross_entropy(y_pred, y_true):\n",
    "    y_true = tf.cast(y_true, dtype=tf.float32)  # Кастуємо до float32\n",
    "    loss2 = tf.keras.losses.categorical_crossentropy(y_true, y_pred, from_logits=True)\n",
    "    return tf.reduce_mean(loss2)\n",
    "\n",
    "    #return tf.reduce_mean(-tf.reduce_sum(y_true * tf.math.log(y_pred), axis=1))\n",
    "    # tf.reduce_mean обчислює середнє значення цієї суми по всіх прикладах у батчі\n",
    "    # tf.reduce_sum сумує значення по кожному класу\n",
    "\n",
    "# Як метрику якості використовуємо точність\n",
    "# Функція обчислення точності\n",
    "# Функція обчислення точності\n",
    "def accuracy(y_pred, y_true):\n",
    "    y_pred_class = tf.argmax(y_pred, axis=1, output_type=tf.int64)\n",
    "    y_true_class = tf.argmax(y_true, axis=1, output_type=tf.int64)\n",
    "\n",
    "    correct_predictions = tf.equal(y_pred_class, y_true_class)\n",
    "    return tf.reduce_mean(tf.cast(correct_predictions, tf.float32))\n",
    "    # Перетворення булевого тензора на числовий тип та обчислення середнього значення\n",
    "    #return tf.reduce_mean(tf.cast(correct_predictions, dtype=tf.float32))\n",
    "    # tf.cast(correct_predictions, dtype=tf.float32): Конвертує булевий тензор correct_predictions у числовий тензор, \n",
    "    # де True стає 1, а False стає 0\n",
    "    # tf.reduce_mean: Обчислює середнє значення чисел у тензорі, що відповідає відсотку правильно класифікованих зразків у батчі."
   ]
  },
  {
   "cell_type": "code",
   "execution_count": 474,
   "id": "d66814ff-978e-40af-a9d6-a2170918020e",
   "metadata": {},
   "outputs": [
    {
     "data": {
      "text/plain": [
       "<__main__.NN at 0x1b6d411c3e0>"
      ]
     },
     "execution_count": 474,
     "metadata": {},
     "output_type": "execute_result"
    }
   ],
   "source": [
    "# Створимо екземпляр нейронної мережі\n",
    "#neural_net = NN(name=\"mnist\")\n",
    "neural_net = NN(input_feature_count, num_classes)\n",
    "# NN(name=\"mnist\") - Створення об'єкту нейромережі за допомогою класу NN, який ми раніше визначили.\n",
    "optimizer = tf.optimizers.SGD(learning_rate)\n",
    "# tf.optimizers.SGD(learning_rate) - Створення об'єкту оптимізатора за допомогою методу \n",
    "# стохастичного градієнтного спуску (SGD) з заданою швидкістю навчання (learning_rate).\n",
    "neural_net"
   ]
  },
  {
   "cell_type": "code",
   "execution_count": 475,
   "id": "1a468a49-6ae2-4425-b9e3-bab804c73915",
   "metadata": {},
   "outputs": [
    {
     "data": {
      "text/plain": [
       "<__main__.NN at 0x1b6d32590a0>"
      ]
     },
     "execution_count": 475,
     "metadata": {},
     "output_type": "execute_result"
    }
   ],
   "source": [
    "neural_net2 = NN(input_feature_count, num_classes)\n",
    "neural_net2"
   ]
  },
  {
   "cell_type": "code",
   "execution_count": 476,
   "id": "d41bc494-9df0-4475-be2f-c252f8adca6a",
   "metadata": {},
   "outputs": [],
   "source": [
    "# Функція навчання нейромережі - виконує навчання нейромережі методом стохастичного градієнтного спуску (SGD)\n",
    "def train(neural_net, input_x, output_y):\n",
    "# Активація автоматичного диференціювання\n",
    "  with tf.GradientTape() as tape:\n",
    "    pred = neural_net(input_x)\n",
    "    # pred = neural_net(input_x) - Застосування нейромережі neural_net до вхідних даних input_x для отримання передбачень\n",
    "    loss = cross_entropy(pred, output_y)\n",
    "    # loss = cross_entropy(pred, output_y) - Обчислення функції втрат за допомогою передбачень pred та справжніх значень output_y\n",
    "      \n",
    "    # Обчислення градієнтів функції втрат відносно ваг моделі neural_net.trainable_variables\n",
    "    gradients = tape.gradient(loss, neural_net.trainable_variables)\n",
    "\n",
    "    # Застосування градієнтного оновлення ваг за допомогою оптимізатора optimizer\n",
    "    optimizer.apply_gradients(zip(gradients, neural_net.trainable_variables))\n",
    "\n",
    "    # Отримання списку оптимізованих параметрів нейромережі\n",
    "    trainable_params = neural_net.trainable_variables"
   ]
  },
  {
   "cell_type": "code",
   "execution_count": 467,
   "id": "9985169a-946d-4e03-8efe-f8b3de2489c5",
   "metadata": {},
   "outputs": [
    {
     "data": {
      "text/plain": [
       "TensorShape([60000, 10])"
      ]
     },
     "execution_count": 467,
     "metadata": {},
     "output_type": "execute_result"
    }
   ],
   "source": [
    "y_train_one_hot.shape"
   ]
  },
  {
   "cell_type": "code",
   "execution_count": 477,
   "id": "ab748f08-a076-4c6e-aa9b-13729c30a317",
   "metadata": {},
   "outputs": [
    {
     "data": {
      "text/plain": [
       "(60000, 784)"
      ]
     },
     "execution_count": 477,
     "metadata": {},
     "output_type": "execute_result"
    }
   ],
   "source": [
    "x_train.shape"
   ]
  },
  {
   "cell_type": "code",
   "execution_count": 478,
   "id": "93f62448-494f-4fb0-b0eb-3ef01e18a96a",
   "metadata": {},
   "outputs": [],
   "source": [
    "# Списки для збереження значень точності та втрат - моніторинг втрат та точності нейромережі під час навчання\n",
    "loss_values = []  # кожні display_step кроків зберігай в цьому списку поточну помилку нейромережі\n",
    "accuracy_values = [] # кожні display_step кроків зберігай в цьому списку поточну точність нейромережі\n",
    "\n",
    "# Створення batch'ів\n",
    "train_data = tf.data.Dataset.from_tensor_slices((x_train, y_train_one_hot)).shuffle(buffer_size=1024).batch(batch_size)\n",
    "#train_data = tf.data.Dataset.from_tensor_slices((x_train, y_train)).shuffle(buffer_size=1024).batch(batch_size)\n",
    "# tf.data.Dataset.from_tensor_slices((x_train, y_train_one_hot)) - Створення датасету TensorFlow\n",
    "# з тренувальними даними x_train та відповідними мітками y_train_one_hot.\n",
    "# .shuffle(buffer_size=1024): Перемішує дані з буфером розміром 1024, щоб запобігти надмірному кореляції порядку при навчанні\n",
    "# .batch(batch_size): Розбиває дані на пакети розміром batch_size, які будуть використовуватися для одного кроку навчання."
   ]
  },
  {
   "cell_type": "code",
   "execution_count": 479,
   "id": "bb060775-d135-43ec-96ec-881e41af3556",
   "metadata": {},
   "outputs": [
    {
     "data": {
      "text/plain": [
       "<_BatchDataset element_spec=(TensorSpec(shape=(None, 784), dtype=tf.float32, name=None), TensorSpec(shape=(None, 10), dtype=tf.float32, name=None))>"
      ]
     },
     "execution_count": 479,
     "metadata": {},
     "output_type": "execute_result"
    }
   ],
   "source": [
    "train_data"
   ]
  },
  {
   "cell_type": "code",
   "execution_count": 480,
   "id": "f2abd26e-22ea-4dbc-9c7a-a46775f1fae4",
   "metadata": {},
   "outputs": [
    {
     "data": {
      "text/plain": [
       "<tf.Tensor: shape=(256, 784), dtype=float32, numpy=\n",
       "array([[0., 0., 0., ..., 0., 0., 0.],\n",
       "       [0., 0., 0., ..., 0., 0., 0.],\n",
       "       [0., 0., 0., ..., 0., 0., 0.],\n",
       "       ...,\n",
       "       [0., 0., 0., ..., 0., 0., 0.],\n",
       "       [0., 0., 0., ..., 0., 0., 0.],\n",
       "       [0., 0., 0., ..., 0., 0., 0.]], dtype=float32)>"
      ]
     },
     "execution_count": 480,
     "metadata": {},
     "output_type": "execute_result"
    }
   ],
   "source": [
    "batch_x"
   ]
  },
  {
   "cell_type": "code",
   "execution_count": 481,
   "id": "893c182e-5d53-496b-ad10-6877aaa46663",
   "metadata": {},
   "outputs": [
    {
     "data": {
      "text/plain": [
       "<tf.Tensor: shape=(256, 10), dtype=float32, numpy=\n",
       "array([[0., 0., 0., ..., 1., 0., 0.],\n",
       "       [0., 0., 0., ..., 1., 0., 0.],\n",
       "       [0., 0., 0., ..., 1., 0., 0.],\n",
       "       ...,\n",
       "       [0., 0., 0., ..., 0., 0., 0.],\n",
       "       [0., 0., 0., ..., 0., 0., 0.],\n",
       "       [1., 0., 0., ..., 0., 0., 0.]], dtype=float32)>"
      ]
     },
     "execution_count": 481,
     "metadata": {},
     "output_type": "execute_result"
    }
   ],
   "source": [
    "batch_y"
   ]
  },
  {
   "cell_type": "code",
   "execution_count": 484,
   "id": "89b7b5b5-72e7-4309-9cc6-41e645c7e8ed",
   "metadata": {},
   "outputs": [],
   "source": [
    "# Тренування мережі\n",
    "# У цьому циклі ми будемо проводити навчання нейронної мережі\n",
    "# із тренувального датасета train_data вилучи випадкову підмножину, на якій\n",
    "# відбудеться тренування. Використовуй метод take, доступний для тренувального датасета.\n",
    "# Цикл навчання\n",
    "for step, (batch_x, batch_y) in enumerate(train_data.take(training_steps), 1):\n",
    "   # train_data.take(training_steps) - Це датасет, який містить тренувальні дані, з якого ми беремо training_steps кроків для навчання\n",
    "    # enumerate(..., 1) - Починаємо перелік кроків навчання з 1 замість 0\n",
    "    \n",
    "    # Обчислення втрат та градієнтів:\n",
    "    with tf.GradientTape() as tape:\n",
    "        # tf.GradientTape() - Запускає обчислення градієнтів\n",
    "\n",
    "        pred = neural_net(batch_x, training=True) #- Передбачення моделі для вхідних даних batch_x\n",
    "        \n",
    "        #print(f\"222batch_y.shape = {batch_y.shape}\")\n",
    "        #batch_y = tf.cast(batch_y, tf.float32)\n",
    "        #print(f\"111batch_y.shape = {batch_y.shape}\")\n",
    "        loss = cross_entropy(pred, batch_y)\n",
    "        # loss = cross_entropy(pred, batch_y) - Обчислення втрат між передбаченнями та мітками batch_y\n",
    "    \n",
    "    gradients = tape.gradient(loss, neural_net.trainable_variables)\n",
    "    # tape.gradient(loss, neural_net.trainable_variables) - Обчислення градієнтів відносно змінних, які можна навчити\n",
    "    optimizer.apply_gradients(zip(gradients, neural_net.trainable_variables))\n",
    "    # optimizer.apply_gradients(...) - Використовує обчислені градієнти для оновлення параметрів моделі\n",
    "    \n",
    "    # Обчислення точності та втрати\n",
    "    if step % display_step == 0:\n",
    "    # step % display_step == 0 - Моніторинг втрат та точності кожні display_step кроків  \n",
    "        pred = neural_net(batch_x, training=True)\n",
    "        # Конвертація y_true (batch_y) у формат (batch_size, num_classes)\n",
    "        #batch_y = to_categorical(batch_y, num_classes)\n",
    "        \n",
    "        loss_value = cross_entropy(pred, batch_y)\n",
    "        # loss_value = cross_entropy(pred, batch_y) - Обчислення втрат для поточного пакету\n",
    "        acc = accuracy(pred, batch_y)\n",
    "        # acc = accuracy(pred, batch_y) - Обчислення точності для поточного пакету\n",
    "        \n",
    "        # Збереження значень точності та втрати\n",
    "        accuracy_values.append(acc)\n",
    "        # accuracy_values.append(acc) - Зберігає точність для моніторингу згодом\n",
    "        loss_values.append(loss_value)\n",
    "        # loss_values.append(loss_value) - Зберігає втрати для моніторингу згодом\n",
    "        \n",
    "        # Виведення прогресу\n",
    "        #print(f\"Крок: {step}, Втрата: {loss_value}, Точність: {acc}\")\n"
   ]
  },
  {
   "cell_type": "code",
   "execution_count": 380,
   "id": "cfc46c8a-744d-4956-8b9f-4147ef00763f",
   "metadata": {},
   "outputs": [
    {
     "data": {
      "image/png": "[encoded data removed]",
      "text/plain": [
       "<Figure size 1000x500 with 2 Axes>"
      ]
     },
     "metadata": {},
     "output_type": "display_data"
    }
   ],
   "source": [
    "# Виведіть графіки залежності зміни точності і втрат від кроку\n",
    "# Якщо все зроблено правильно, то точність повинна зростати, а втрати зменшуватись\n",
    "\n",
    "import matplotlib.pyplot as plt\n",
    "# Побудова графіків\n",
    "plt.figure(figsize=(10, 5))\n",
    "plt.subplot(1, 2, 1)\n",
    "plt.plot(range(1, len(accuracy_values) + 1), accuracy_values, label='Точність')\n",
    "plt.xlabel('Кроки навчання')\n",
    "plt.ylabel('Точність')\n",
    "plt.legend()\n",
    "\n",
    "plt.subplot(1, 2, 2)\n",
    "plt.plot(range(1, len(loss_values) + 1), loss_values, label='Втрата')\n",
    "plt.xlabel('Кроки навчання')\n",
    "plt.ylabel('Втрата')\n",
    "plt.legend()\n",
    "\n",
    "plt.show()"
   ]
  },
  {
   "cell_type": "code",
   "execution_count": 381,
   "id": "f35f2d84-1c93-4c0b-b8c2-80720f63dded",
   "metadata": {},
   "outputs": [
    {
     "data": {
      "text/plain": [
       "<tf.Tensor: shape=(10000, 10), dtype=float32, numpy=\n",
       "array([[4.3873970e-05, 3.7377219e-14, 2.3892072e-03, ..., 1.4383019e-03,\n",
       "        5.0897080e-07, 8.5649788e-01],\n",
       "       [3.1980799e-05, 1.8368844e-09, 7.1074778e-06, ..., 9.8359483e-01,\n",
       "        1.1788200e-02, 3.8449145e-03],\n",
       "       [3.0631229e-01, 1.2187796e-11, 2.5093994e-01, ..., 9.9372694e-05,\n",
       "        2.8175202e-05, 2.3621256e-02],\n",
       "       ...,\n",
       "       [9.8236278e-04, 2.9959975e-14, 7.3430166e-02, ..., 3.7952329e-06,\n",
       "        4.3647640e-04, 9.2514002e-01],\n",
       "       [1.5561348e-04, 3.5740081e-14, 2.9341480e-01, ..., 1.0383646e-04,\n",
       "        1.6891314e-03, 3.7035777e-03],\n",
       "       [3.5024586e-05, 1.5276122e-12, 1.5208633e-06, ..., 4.7483397e-07,\n",
       "        9.5072067e-01, 2.9414011e-08]], dtype=float32)>"
      ]
     },
     "execution_count": 381,
     "metadata": {},
     "output_type": "execute_result"
    }
   ],
   "source": [
    "# Обчисліть точність навченої нейромережі\n",
    "# Отримання передбачень для тестового набору даних\n",
    "y_pred_test = neural_net(x_test)\n",
    "y_pred_test"
   ]
  },
  {
   "cell_type": "code",
   "execution_count": 382,
   "id": "be7ff489-aa06-4465-bf82-d58096198539",
   "metadata": {},
   "outputs": [
    {
     "data": {
      "text/plain": [
       "array([[0., 0., 0., ..., 0., 0., 0.],\n",
       "       [0., 0., 0., ..., 0., 0., 0.],\n",
       "       [0., 0., 0., ..., 0., 0., 0.],\n",
       "       ...,\n",
       "       [0., 0., 0., ..., 0., 0., 0.],\n",
       "       [0., 0., 0., ..., 0., 0., 0.],\n",
       "       [0., 0., 0., ..., 0., 0., 0.]], dtype=float32)"
      ]
     },
     "execution_count": 382,
     "metadata": {},
     "output_type": "execute_result"
    }
   ],
   "source": [
    "x_test"
   ]
  },
  {
   "cell_type": "code",
   "execution_count": 397,
   "id": "a7c922ac-006d-4741-b38c-97ad2a5e4280",
   "metadata": {},
   "outputs": [
    {
     "name": "stdout",
     "output_type": "stream",
     "text": [
      "y_pred_test.shape = (10000, 10)\n",
      "y_test_onehot.shape = (10000, 10)\n"
     ]
    }
   ],
   "source": [
    "y_test = tf.cast(y_test, dtype=tf.int32)  # or tf.int64\n",
    "\n",
    "# Continue with one-hot encoding\n",
    "y_test_onehot = tf.one_hot(y_test, depth=num_classes)\n",
    "\n",
    "# Convert y_pred_test and y_test to float32 if they are not already\n",
    "y_pred_test = tf.convert_to_tensor(y_pred_test, dtype=tf.float32)\n",
    "y_test_onehot = tf.convert_to_tensor(y_test_onehot, dtype=tf.float32)\n",
    "\n",
    "print(f\"y_pred_test.shape = {y_pred_test.shape}\")\n",
    "print(f\"y_test_onehot.shape = {y_test_onehot.shape}\")"
   ]
  },
  {
   "cell_type": "code",
   "execution_count": 411,
   "id": "2a9e81fd-2bdf-4de5-92b9-5ea9303c80fc",
   "metadata": {},
   "outputs": [
    {
     "name": "stdout",
     "output_type": "stream",
     "text": [
      "Точність на тестовому наборі даних: 0.1099\n",
      "Втрати на тестовому наборі даних: 10.548376\n"
     ]
    }
   ],
   "source": [
    "def accuracy2(y_pred, y_true):\n",
    "    y_pred_class = tf.argmax(y_pred, axis=1)\n",
    "    y_true = tf.cast(y_true, dtype=tf.int64)  # кастуємо до int64\n",
    "    y_true_class = tf.argmax(y_true, axis=1)\n",
    "    correct_predictions = tf.equal(y_pred_class, y_true_class)\n",
    "    return tf.reduce_mean(tf.cast(correct_predictions, tf.float32))\n",
    "    \n",
    "# Обчислення точності за допомогою функції accuracy\n",
    "test_accuracy = accuracy2(y_pred_test, y_test_onehot)\n",
    "# Обчислення втрат за допомогою функції cross_entropy\n",
    "print(\"Точність на тестовому наборі даних:\", test_accuracy.numpy())\n",
    "\n",
    "test_loss = cross_entropy(y_pred_test, y_test_onehot)\n",
    "print(\"Втрати на тестовому наборі даних:\", test_loss.numpy())"
   ]
  },
  {
   "cell_type": "code",
   "execution_count": 421,
   "id": "0c084e88-7f73-4f94-b0dc-29cf43ef36af",
   "metadata": {},
   "outputs": [
    {
     "data": {
      "text/plain": [
       "<tf.Tensor: shape=(10000, 10), dtype=float32, numpy=\n",
       "array([[0., 0., 0., ..., 1., 0., 0.],\n",
       "       [0., 0., 1., ..., 0., 0., 0.],\n",
       "       [0., 1., 0., ..., 0., 0., 0.],\n",
       "       ...,\n",
       "       [0., 0., 0., ..., 0., 0., 0.],\n",
       "       [0., 0., 0., ..., 0., 0., 0.],\n",
       "       [0., 0., 0., ..., 0., 0., 0.]], dtype=float32)>"
      ]
     },
     "execution_count": 421,
     "metadata": {},
     "output_type": "execute_result"
    }
   ],
   "source": [
    "y_test_onehot"
   ]
  },
  {
   "cell_type": "code",
   "execution_count": 423,
   "id": "2d5a9bda-986a-469e-b36c-8fccf0e2469e",
   "metadata": {},
   "outputs": [
    {
     "name": "stdout",
     "output_type": "stream",
     "text": [
      "x_test.shape: (10000, 784)\n",
      "y_test.shape: (10000,)\n",
      "y_test_onehot.shape: (10000, 10)\n"
     ]
    }
   ],
   "source": [
    "print(\"x_test.shape:\", x_test.shape)\n",
    "print(\"y_test.shape:\", y_test.shape)\n",
    "print(\"y_test_onehot.shape:\", y_test_onehot.shape)"
   ]
  },
  {
   "cell_type": "code",
   "execution_count": 492,
   "id": "1058d576-d029-4caf-a975-2879640e1b52",
   "metadata": {},
   "outputs": [
    {
     "data": {
      "text/plain": [
       "array([[0., 0., 0., ..., 1., 0., 0.],\n",
       "       [0., 0., 1., ..., 0., 0., 0.],\n",
       "       [0., 1., 0., ..., 0., 0., 0.],\n",
       "       ...,\n",
       "       [0., 0., 0., ..., 0., 0., 0.],\n",
       "       [0., 0., 0., ..., 0., 0., 0.],\n",
       "       [0., 0., 0., ..., 0., 0., 0.]], dtype=float32)"
      ]
     },
     "execution_count": 492,
     "metadata": {},
     "output_type": "execute_result"
    }
   ],
   "source": [
    "y_test_onehot"
   ]
  },
  {
   "cell_type": "code",
   "execution_count": 493,
   "id": "a4b6c29a-8a5a-4954-8064-1accbfa429ab",
   "metadata": {},
   "outputs": [
    {
     "data": {
      "text/plain": [
       "array([[0., 0., 0., ..., 0., 0., 0.],\n",
       "       [0., 0., 0., ..., 0., 0., 0.],\n",
       "       [0., 0., 0., ..., 0., 0., 0.],\n",
       "       ...,\n",
       "       [0., 0., 0., ..., 0., 0., 0.],\n",
       "       [0., 0., 0., ..., 0., 0., 0.],\n",
       "       [0., 0., 0., ..., 0., 0., 0.]], dtype=float32)"
      ]
     },
     "execution_count": 493,
     "metadata": {},
     "output_type": "execute_result"
    }
   ],
   "source": [
    "x_test"
   ]
  },
  {
   "cell_type": "code",
   "execution_count": 495,
   "id": "90626171-0737-4f91-b07e-f6a12bbc98cb",
   "metadata": {},
   "outputs": [
    {
     "name": "stdout",
     "output_type": "stream",
     "text": [
      "random_indices = [9898, 1423, 8261, 9079, 6676]\n",
      "images_to_test.shape: (5, 784)\n",
      "labels_to_test.shape: (5, 10)\n"
     ]
    }
   ],
   "source": [
    "# Протестуйте навчену нейромережу на 10 зображеннях. З тестової вибірки візьміть 5\n",
    "# випадкових зображень і передайте їх у нейронну мережу.\n",
    "import random\n",
    "num_samples = 5\n",
    "\n",
    "# Виберіть 5 випадкових зображень та їх мітки з тестового набору даних\n",
    "random_indices = random.sample(range(len(x_test)), num_samples)\n",
    "print(f\"random_indices = {random_indices}\")\n",
    "images_to_test = x_test[random_indices]\n",
    "#y_test_onehot = y_test_onehot.numpy()\n",
    "labels_to_test = y_test_onehot[random_indices]\n",
    "\n",
    "# Перевірка розмірності\n",
    "print(\"images_to_test.shape:\", images_to_test.shape)\n",
    "print(\"labels_to_test.shape:\", labels_to_test.shape)"
   ]
  },
  {
   "cell_type": "code",
   "execution_count": 496,
   "id": "b6ad2158-b96e-4847-90a4-d6c42538e0a0",
   "metadata": {},
   "outputs": [
    {
     "data": {
      "text/plain": [
       "(5, 10)"
      ]
     },
     "execution_count": 496,
     "metadata": {},
     "output_type": "execute_result"
    }
   ],
   "source": [
    "labels_to_test.shape"
   ]
  },
  {
   "cell_type": "code",
   "execution_count": 498,
   "id": "1fe30b47-cfc5-456b-8c36-beb6dc52f18c",
   "metadata": {},
   "outputs": [
    {
     "data": {
      "text/plain": [
       "<tf.Tensor: shape=(5, 10), dtype=float32, numpy=\n",
       "array([[3.0029915e-07, 4.3923567e-12, 2.0827604e-06, 9.9975044e-01,\n",
       "        1.1825522e-12, 7.3386571e-13, 2.4480073e-04, 1.9744744e-11,\n",
       "        2.3401210e-06, 9.3733452e-18],\n",
       "       [3.4416342e-07, 2.2707929e-09, 3.1302075e-06, 2.5741498e-03,\n",
       "        3.1340996e-08, 2.9827713e-10, 3.2274607e-01, 2.2505565e-06,\n",
       "        6.7467403e-01, 1.7461464e-12],\n",
       "       [7.3481856e-06, 1.8698394e-06, 3.8728043e-10, 9.9920791e-01,\n",
       "        1.8394672e-10, 4.1726329e-09, 7.8269228e-04, 1.3376264e-07,\n",
       "        5.8309539e-08, 4.3410881e-16],\n",
       "       [1.0061629e-05, 4.1021067e-14, 7.9401076e-08, 3.3615013e-08,\n",
       "        5.9856425e-10, 2.1347849e-07, 9.5794952e-01, 1.4283159e-11,\n",
       "        4.2040061e-02, 7.7469333e-12],\n",
       "       [1.9108281e-02, 9.6657932e-06, 5.3772510e-05, 8.4874028e-01,\n",
       "        1.4452157e-08, 2.8437735e-06, 1.3158710e-01, 7.8889331e-09,\n",
       "        4.9800402e-04, 1.1220392e-12]], dtype=float32)>"
      ]
     },
     "execution_count": 498,
     "metadata": {},
     "output_type": "execute_result"
    }
   ],
   "source": [
    "# Отримайте передбачені значення для цих зображень\n",
    "predictions = neural_net(images_to_test)\n",
    "predictions"
   ]
  },
  {
   "cell_type": "code",
   "execution_count": 506,
   "id": "f0fdfec8-ce86-43be-b634-644632162d77",
   "metadata": {},
   "outputs": [
    {
     "data": {
      "image/png": "[encoded data removed]",
      "text/plain": [
       "<Figure size 1500x600 with 5 Axes>"
      ]
     },
     "metadata": {},
     "output_type": "display_data"
    }
   ],
   "source": [
    "# Виведіть зображення та випишіть  поруч відповідь нейромережі.\n",
    "# Зробіть висновок про те, чи помиляється твоя нейронна мережа, і якщо так, то як часто?\n",
    "\n",
    "# Вибираємо кілька зображень для відображення\n",
    "num_images = 5\n",
    "\n",
    "# Перетворення зображення на відповідну форму\n",
    "images_to_test_reshaped = np.reshape(images_to_test, (-1, 28, 28))\n",
    "\n",
    "# Виведіть зображення разом з передбаченими мітками\n",
    "plt.figure(figsize=(15, 6))\n",
    "for i in range(5):\n",
    "    plt.subplot(1, 5, i+1)\n",
    "    plt.imshow(images_to_test_reshaped[i], cmap='gray')\n",
    "    plt.title(str(tf.argmax(labels_to_test[i]).numpy()))  # Додавання мітки\n",
    "    plt.axis('off')\n",
    "plt.show()"
   ]
  },
  {
   "cell_type": "markdown",
   "id": "7f8e8864-63fe-4826-8a0c-c31c8964d174",
   "metadata": {},
   "source": [
    "передбачення нейромережі відповідає фактичній мітці, то нейромережа правильно класифікувала зображення"
   ]
  },
  {
   "cell_type": "code",
   "execution_count": 500,
   "id": "0f97df36-cf1c-48c2-bdd6-b4ec2f3bc7ad",
   "metadata": {},
   "outputs": [
    {
     "data": {
      "text/plain": [
       "TensorShape([5, 10])"
      ]
     },
     "execution_count": 500,
     "metadata": {},
     "output_type": "execute_result"
    }
   ],
   "source": [
    "predictions.shape"
   ]
  },
  {
   "cell_type": "code",
   "execution_count": 507,
   "id": "97c1ced9-4d73-41b6-8474-efaa529f01c5",
   "metadata": {},
   "outputs": [
    {
     "data": {
      "text/plain": [
       "<tf.Tensor: shape=(5, 10), dtype=float32, numpy=\n",
       "array([[3.0029915e-07, 4.3923567e-12, 2.0827604e-06, 9.9975044e-01,\n",
       "        1.1825522e-12, 7.3386571e-13, 2.4480073e-04, 1.9744744e-11,\n",
       "        2.3401210e-06, 9.3733452e-18],\n",
       "       [3.4416342e-07, 2.2707929e-09, 3.1302075e-06, 2.5741498e-03,\n",
       "        3.1340996e-08, 2.9827713e-10, 3.2274607e-01, 2.2505565e-06,\n",
       "        6.7467403e-01, 1.7461464e-12],\n",
       "       [7.3481856e-06, 1.8698394e-06, 3.8728043e-10, 9.9920791e-01,\n",
       "        1.8394672e-10, 4.1726329e-09, 7.8269228e-04, 1.3376264e-07,\n",
       "        5.8309539e-08, 4.3410881e-16],\n",
       "       [1.0061629e-05, 4.1021067e-14, 7.9401076e-08, 3.3615013e-08,\n",
       "        5.9856425e-10, 2.1347849e-07, 9.5794952e-01, 1.4283159e-11,\n",
       "        4.2040061e-02, 7.7469333e-12],\n",
       "       [1.9108281e-02, 9.6657932e-06, 5.3772510e-05, 8.4874028e-01,\n",
       "        1.4452157e-08, 2.8437735e-06, 1.3158710e-01, 7.8889331e-09,\n",
       "        4.9800402e-04, 1.1220392e-12]], dtype=float32)>"
      ]
     },
     "execution_count": 507,
     "metadata": {},
     "output_type": "execute_result"
    }
   ],
   "source": [
    "predictions"
   ]
  },
  {
   "cell_type": "code",
   "execution_count": 508,
   "id": "400b976d-e98d-4e49-a2de-76314734222c",
   "metadata": {},
   "outputs": [
    {
     "name": "stdout",
     "output_type": "stream",
     "text": [
      "              precision    recall  f1-score   support\n",
      "\n",
      "           1       0.00      0.00      0.00         2\n",
      "           3       0.33      1.00      0.50         1\n",
      "           6       0.00      0.00      0.00         0\n",
      "           8       0.00      0.00      0.00         0\n",
      "           9       0.00      0.00      0.00         2\n",
      "\n",
      "    accuracy                           0.20         5\n",
      "   macro avg       0.07      0.20      0.10         5\n",
      "weighted avg       0.07      0.20      0.10         5\n",
      "\n"
     ]
    },
    {
     "name": "stderr",
     "output_type": "stream",
     "text": [
      "C:\\Users\\Igor\\Vert_1\\myenv\\Lib\\site-packages\\sklearn\\metrics\\_classification.py:1509: UndefinedMetricWarning: Precision is ill-defined and being set to 0.0 in labels with no predicted samples. Use `zero_division` parameter to control this behavior.\n",
      "  _warn_prf(average, modifier, f\"{metric.capitalize()} is\", len(result))\n",
      "C:\\Users\\Igor\\Vert_1\\myenv\\Lib\\site-packages\\sklearn\\metrics\\_classification.py:1509: UndefinedMetricWarning: Recall is ill-defined and being set to 0.0 in labels with no true samples. Use `zero_division` parameter to control this behavior.\n",
      "  _warn_prf(average, modifier, f\"{metric.capitalize()} is\", len(result))\n",
      "C:\\Users\\Igor\\Vert_1\\myenv\\Lib\\site-packages\\sklearn\\metrics\\_classification.py:1509: UndefinedMetricWarning: Precision is ill-defined and being set to 0.0 in labels with no predicted samples. Use `zero_division` parameter to control this behavior.\n",
      "  _warn_prf(average, modifier, f\"{metric.capitalize()} is\", len(result))\n",
      "C:\\Users\\Igor\\Vert_1\\myenv\\Lib\\site-packages\\sklearn\\metrics\\_classification.py:1509: UndefinedMetricWarning: Recall is ill-defined and being set to 0.0 in labels with no true samples. Use `zero_division` parameter to control this behavior.\n",
      "  _warn_prf(average, modifier, f\"{metric.capitalize()} is\", len(result))\n",
      "C:\\Users\\Igor\\Vert_1\\myenv\\Lib\\site-packages\\sklearn\\metrics\\_classification.py:1509: UndefinedMetricWarning: Precision is ill-defined and being set to 0.0 in labels with no predicted samples. Use `zero_division` parameter to control this behavior.\n",
      "  _warn_prf(average, modifier, f\"{metric.capitalize()} is\", len(result))\n",
      "C:\\Users\\Igor\\Vert_1\\myenv\\Lib\\site-packages\\sklearn\\metrics\\_classification.py:1509: UndefinedMetricWarning: Recall is ill-defined and being set to 0.0 in labels with no true samples. Use `zero_division` parameter to control this behavior.\n",
      "  _warn_prf(average, modifier, f\"{metric.capitalize()} is\", len(result))\n"
     ]
    }
   ],
   "source": [
    "from sklearn.metrics import classification_report\n",
    "\n",
    "# Отримання передбачень\n",
    "predicted_labels = np.argmax(predictions, axis=1) \n",
    "\n",
    "# Отримання істинних міток\n",
    "true_labels = np.argmax(labels_to_test, axis=1)\n",
    "\n",
    "# Виведення метрик якості за допомогою classification_report\n",
    "print(classification_report(true_labels, predicted_labels))"
   ]
  },
  {
   "cell_type": "code",
   "execution_count": 504,
   "id": "7fd05a32-7e70-43b7-8191-48a444cd51b4",
   "metadata": {},
   "outputs": [
    {
     "ename": "NameError",
     "evalue": "name 'model' is not defined",
     "output_type": "error",
     "traceback": [
      "\u001b[1;31m---------------------------------------------------------------------------\u001b[0m",
      "\u001b[1;31mNameError\u001b[0m                                 Traceback (most recent call last)",
      "Cell \u001b[1;32mIn[504], line 2\u001b[0m\n\u001b[0;32m      1\u001b[0m \u001b[38;5;66;03m# Приклад для LogisticRegression\u001b[39;00m\n\u001b[1;32m----> 2\u001b[0m feature_importance \u001b[38;5;241m=\u001b[39m \u001b[38;5;28mabs\u001b[39m(\u001b[43mmodel\u001b[49m\u001b[38;5;241m.\u001b[39mcoef_[\u001b[38;5;241m0\u001b[39m])\n\u001b[0;32m      3\u001b[0m feature_importance \u001b[38;5;241m=\u001b[39m \u001b[38;5;241m100.0\u001b[39m \u001b[38;5;241m*\u001b[39m (feature_importance \u001b[38;5;241m/\u001b[39m feature_importance\u001b[38;5;241m.\u001b[39mmax())\n\u001b[0;32m      4\u001b[0m sorted_idx \u001b[38;5;241m=\u001b[39m np\u001b[38;5;241m.\u001b[39margsort(feature_importance)\n",
      "\u001b[1;31mNameError\u001b[0m: name 'model' is not defined"
     ]
    }
   ],
   "source": [
    "# Приклад для LogisticRegression\n",
    "feature_importance = abs(model.coef_[0])\n",
    "feature_importance = 100.0 * (feature_importance / feature_importance.max())\n",
    "sorted_idx = np.argsort(feature_importance)\n",
    "pos = np.arange(sorted_idx.shape[0]) + .5\n",
    "\n",
    "# Графік важливості функцій\n",
    "plt.figure(figsize=(10, 10))\n",
    "plt.barh(pos, feature_importance[sorted_idx], align='center')\n",
    "plt.yticks(pos, x_train.columns[sorted_idx])\n",
    "plt.xlabel('Relative Importance')\n",
    "plt.title('Variable Importance')\n",
    "plt.show()"
   ]
  },
  {
   "cell_type": "code",
   "execution_count": null,
   "id": "111e25e2-f0b5-4b20-9c8d-f6e942bab5f1",
   "metadata": {},
   "outputs": [],
   "source": []
  }
 ],
 "metadata": {
  "kernelspec": {
   "display_name": "Python (myenv)",
   "language": "python",
   "name": "myenv"
  },
  "language_info": {
   "codemirror_mode": {
    "name": "ipython",
    "version": 3
   },
   "file_extension": ".py",
   "mimetype": "text/x-python",
   "name": "python",
   "nbconvert_exporter": "python",
   "pygments_lexer": "ipython3",
   "version": "3.12.2"
  }
 },
 "nbformat": 4,
 "nbformat_minor": 5
}
